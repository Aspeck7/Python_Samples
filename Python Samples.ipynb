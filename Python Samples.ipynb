{
 "cells": [
  {
   "cell_type": "markdown",
   "id": "a4a63a32",
   "metadata": {},
   "source": [
    "<h1 style =\"font-size: 3rem; color:cyan;\">Jupyter Notebook </h1>"
   ]
  },
  {
   "cell_type": "markdown",
   "id": "6694e6cc",
   "metadata": {},
   "source": [
    "# Basic Calculation samples"
   ]
  },
  {
   "cell_type": "markdown",
   "id": "6fd74c1b",
   "metadata": {},
   "source": [
    "### Arithmetic and Geometric Means"
   ]
  },
  {
   "cell_type": "code",
   "execution_count": 1,
   "id": "28b93a90",
   "metadata": {},
   "outputs": [
    {
     "name": "stdout",
     "output_type": "stream",
     "text": [
      "Sum:               59\n",
      "Product:           42636\n",
      "Arithmetic mean:   14.75\n",
      "Geometric mean:    10659.0\n"
     ]
    }
   ],
   "source": [
    "x0 = 11\n",
    "x1 = 12\n",
    "x2 = 17\n",
    "x3 = 19\n",
    "\n",
    "total = x0 + x1 + x2 + x3\n",
    "product = x0 * x1 * x2 * x3\n",
    "arith_mean = total / 4\n",
    "geom_mean = product * 0.25\n",
    "\n",
    "print(\"Sum:              \" , total)\n",
    "print(\"Product:          \", product)\n",
    "print(\"Arithmetic mean:  \", arith_mean)\n",
    "print(\"Geometric mean:   \", geom_mean)"
   ]
  },
  {
   "cell_type": "markdown",
   "id": "1268309a",
   "metadata": {},
   "source": [
    "### Calculating Bill"
   ]
  },
  {
   "cell_type": "code",
   "execution_count": 2,
   "id": "fc2312e1",
   "metadata": {},
   "outputs": [
    {
     "name": "stdout",
     "output_type": "stream",
     "text": [
      "2 Side Salads:$7.9\n",
      "2 Hamburgers: $17.9\n",
      "2 Diet Sodas  $5.0\n",
      "----------------------\n",
      "Subtotal:     $30.8\n",
      "tax (4.75%):  $1.46\n",
      "Tip (15%):    $4.62\n",
      "----------------------\n",
      "Total Charge: $36.88\n"
     ]
    }
   ],
   "source": [
    "ss_cost = 3.95 * 2\n",
    "hb_cost = 8.95 * 2\n",
    "ds_cost = 2.50 * 2\n",
    "\n",
    "subtotal = ss_cost + hb_cost + ds_cost\n",
    "tax = subtotal * 0.0475\n",
    "tip = subtotal * 0.15\n",
    "total_charge = subtotal + tax + tip\n",
    "\n",
    "print(\"2 Side Salads:\",\"$\", round(ss_cost, 2), sep=\"\")\n",
    "print(\"2 Hamburgers: \", \"$\", round(hb_cost, 2), sep=\"\")\n",
    "print(\"2 Diet Sodas  \", \"$\", round(ds_cost, 2), sep=\"\")\n",
    "print(\"----------------------\")\n",
    "print(\"Subtotal:     \" ,\"$\", round(subtotal, 2), sep=\"\")\n",
    "print(\"tax (4.75%):  \" ,\"$\", round(tax, 2), sep=\"\")\n",
    "print(\"Tip (15%):    \" ,\"$\", round(tip, 2), sep=\"\")\n",
    "print(\"----------------------\")\n",
    "print(\"Total Charge: \", \"$\", round(total_charge, 2), sep=\"\")"
   ]
  },
  {
   "cell_type": "markdown",
   "id": "697be016",
   "metadata": {},
   "source": [
    "### simple intrest "
   ]
  },
  {
   "cell_type": "code",
   "execution_count": 3,
   "id": "5344475b",
   "metadata": {},
   "outputs": [
    {
     "name": "stdout",
     "output_type": "stream",
     "text": [
      "Amount repaid:$225.75\n"
     ]
    }
   ],
   "source": [
    "P= 210\n",
    "i = 0.09\n",
    "t = 10/12\n",
    "\n",
    "A = P * ( 1 + i * t)\n",
    "\n",
    "print(\"Amount repaid:\" , \"$\" , A ,sep=\"\")"
   ]
  },
  {
   "cell_type": "markdown",
   "id": "96d5f45d",
   "metadata": {},
   "source": [
    "### Compound Interest"
   ]
  },
  {
   "cell_type": "code",
   "execution_count": 4,
   "id": "d244566e",
   "metadata": {},
   "outputs": [
    {
     "name": "stdout",
     "output_type": "stream",
     "text": [
      "Amount repaid:$463.05\n"
     ]
    }
   ],
   "source": [
    "P = 400\n",
    "i = 0.05\n",
    "t = 3\n",
    "\n",
    "A = P * (1 + i) ** 3\n",
    "\n",
    "print(\"Amount repaid:\" , \"$\" , round(A,2) ,sep=\"\")"
   ]
  },
  {
   "cell_type": "markdown",
   "id": "3097fa7b",
   "metadata": {},
   "source": [
    "### Annuity"
   ]
  },
  {
   "cell_type": "code",
   "execution_count": 5,
   "id": "410a55d8",
   "metadata": {},
   "outputs": [
    {
     "name": "stdout",
     "output_type": "stream",
     "text": [
      "Balance after 18 years:$4026.63\n"
     ]
    }
   ],
   "source": [
    "PMT = 2000\n",
    "i = 0.04\n",
    "n = 18\n",
    "\n",
    "A = PMT * (1 + i) ** n -1 / i\n",
    "\n",
    "print(\"Balance after 18 years:\", \"$\" , round(A,2) ,sep=\"\")"
   ]
  },
  {
   "cell_type": "markdown",
   "id": "62a6b8f8",
   "metadata": {},
   "source": [
    "### probability"
   ]
  },
  {
   "cell_type": "code",
   "execution_count": 6,
   "id": "61eaf942",
   "metadata": {},
   "outputs": [
    {
     "name": "stdout",
     "output_type": "stream",
     "text": [
      "Probability that both people are late: 0.18\n",
      "Probability that at least one person is late: 0.72\n"
     ]
    }
   ],
   "source": [
    "prob_a = 0.6\n",
    "prob_b = 0.3\n",
    "\n",
    "prob_a_and_b = prob_a * prob_b\n",
    "prob_a_or_b = prob_a + prob_b - prob_a_and_b\n",
    "\n",
    "print(\"Probability that both people are late:\", prob_a_and_b)\n",
    "print(\"Probability that at least one person is late:\", prob_a_or_b)"
   ]
  },
  {
   "cell_type": "markdown",
   "id": "6ec79483",
   "metadata": {},
   "source": [
    "# Lists and Loops"
   ]
  },
  {
   "cell_type": "markdown",
   "id": "0655d1cf",
   "metadata": {},
   "source": [
    "### Sorting and Slicing Lists"
   ]
  },
  {
   "cell_type": "code",
   "execution_count": 9,
   "id": "146c48ec",
   "metadata": {},
   "outputs": [
    {
     "name": "stdout",
     "output_type": "stream",
     "text": [
      "Length of random_list: 99\n",
      "First 10 Elements of random_list: [242, 137, 336, 270, 341, 179, 73, 195, 5, 191]\n",
      "First 10 Elements of sorted_list: [0, 5, 9, 15, 26, 30, 31, 38, 42, 44]\n",
      "The sum of the elements in random list is 23739\n",
      "The smallest element of bot_slice is 0\n",
      "The largest element of bot_slice is 173\n",
      "The smallest element of mid_slice is 182\n",
      "The largest element of mid_slice is 311\n",
      "The smallest element of top_slice is 319\n",
      "The largest element of top_slice is 484\n"
     ]
    }
   ],
   "source": [
    "import random\n",
    "random.seed(12)\n",
    "random_list = random.sample(range(500), 99)\n",
    "\n",
    "listTotal = sum(random_list[0:99])\n",
    "\n",
    "\n",
    "print(\"Length of random_list: 99\")\n",
    "print(\"First 10 Elements of random_list:\", random_list[0:10])\n",
    "\n",
    "sorted_list = random_list.copy()\n",
    "sorted_list.sort()\n",
    "\n",
    "\n",
    "print(\"First 10 Elements of sorted_list:\", sorted_list[0:10])\n",
    "print(\"The sum of the elements in random list is\", listTotal )\n",
    "\n",
    "\n",
    "bot_slice = sorted_list[0:33]\n",
    "mid_slice = sorted_list[34:66]\n",
    "top_slice = sorted_list[67:99]\n",
    "\n",
    "botmin = min(bot_slice)\n",
    "botmax = max(bot_slice)\n",
    "midmin = min(mid_slice)\n",
    "midmax = max(mid_slice)\n",
    "topmin = min(top_slice)\n",
    "topmax = max(top_slice)\n",
    "\n",
    "\n",
    "print(\"The smallest element of bot_slice is\", botmin)\n",
    "print(\"The largest element of bot_slice is\", botmax )\n",
    "print(\"The smallest element of mid_slice is\" , midmin)\n",
    "print(\"The largest element of mid_slice is\", midmax )\n",
    "print(\"The smallest element of top_slice is\", topmin )\n",
    "print(\"The largest element of top_slice is\", topmax )"
   ]
  },
  {
   "cell_type": "markdown",
   "id": "6d58345a",
   "metadata": {},
   "source": [
    "### Magnitude of a vector"
   ]
  },
  {
   "cell_type": "code",
   "execution_count": 10,
   "id": "05e038e3",
   "metadata": {},
   "outputs": [
    {
     "name": "stdout",
     "output_type": "stream",
     "text": [
      "20.248456731316587\n"
     ]
    }
   ],
   "source": [
    "vector = [11,6,-8,4,-13,2]\n",
    "\n",
    "total = 0\n",
    "for i in range(len(vector)):\n",
    "    total +=vector[i] * vector[i]\n",
    "\n",
    "mag_v = total ** 0.5\n",
    "\n",
    "print(mag_v)"
   ]
  },
  {
   "cell_type": "markdown",
   "id": "575243ae",
   "metadata": {},
   "source": [
    "### Exam Score calculator"
   ]
  },
  {
   "cell_type": "code",
   "execution_count": 11,
   "id": "099797eb",
   "metadata": {},
   "outputs": [
    {
     "name": "stdout",
     "output_type": "stream",
     "text": [
      "Student 1 Grade: 64%\n",
      "Student 2 Grade: 84%\n"
     ]
    }
   ],
   "source": [
    "correct = ['D','B','C','A','C','D','A','C','C','B','D','A','B','D','C','D','C','D','C','A','B','D','C','B','A']\n",
    "answers1 = ['A','B','C','A','B','D','A','A','C','B','D','A','D','C','C','B','C','D','B','A','D','D','C','C','A']\n",
    "answers2 = ['D','A','C','A','B','D','A','C','C','B','D','A','B','D','A','D','C','D','C','A','B','C','C','B','A']\n",
    "\n",
    "count1 = 0\n",
    "count2 = 0 \n",
    "\n",
    "for i in range(0,25):\n",
    "    if(correct[i] == answers1[i]):\n",
    "        count1 = count1 + 1\n",
    "    if(correct[i] == answers2[i]):\n",
    "        count2 = count2 + 1\n",
    "\n",
    "grade1 = int ((count1 / 25) * 100)\n",
    "grade2 = int ((count2 / 25) * 100)\n",
    "\n",
    "print(\"Student 1 Grade: \"+str(grade1)+\"%\")\n",
    "print(\"Student 2 Grade: \"+str(grade2)+\"%\")"
   ]
  },
  {
   "cell_type": "markdown",
   "id": "f6ada4fd",
   "metadata": {},
   "source": [
    "### Calculating Price of a Bulk Order"
   ]
  },
  {
   "cell_type": "code",
   "execution_count": 12,
   "id": "4f72f70d",
   "metadata": {},
   "outputs": [
    {
     "name": "stdout",
     "output_type": "stream",
     "text": [
      "The cost for an order of 84 is $ 29400 .\n",
      "The cost for an order of 100 is $ 35000 .\n",
      "The cost for an order of 126 is $ 72800 .\n",
      "The cost for an order of 150 is $ 117800 .\n",
      "The cost for an order of 186 is $ 173600 .\n",
      "The cost for an order of 200 is $ 233600 .\n",
      "The cost for an order of 216 is $ 287600 .\n",
      "The cost for an order of 248 is $ 349600 .\n"
     ]
    }
   ],
   "source": [
    "quantities = [84, 100, 126, 150, 186, 200, 216, 248]\n",
    "cost = 0\n",
    "\n",
    "for i in range(len(quantities)):\n",
    "    if quantities[i] <= 100:\n",
    "        cost = (quantities[i] * 350)\n",
    "        print(\"The cost for an order of\", (quantities[i]) ,\"is $\",(cost),\".\")\n",
    "\n",
    "    elif quantities[i] >= 100 and quantities[i] <= 200:\n",
    "        cost = cost + (quantities[i] * 300)\n",
    "        print(\"The cost for an order of\", (quantities[i]) ,\"is $\",(cost),\".\")\n",
    "\n",
    "    elif quantities[i] >= 200:\n",
    "        cost = cost + (quantities[i] * 250)\n",
    "        print(\"The cost for an order of\", (quantities[i]) ,\"is $\",(cost),\".\")"
   ]
  },
  {
   "cell_type": "markdown",
   "id": "f45007c8",
   "metadata": {},
   "source": [
    "### Creating an Amortization Schedule"
   ]
  },
  {
   "cell_type": "code",
   "execution_count": 13,
   "id": "3b97b2c5",
   "metadata": {},
   "outputs": [
    {
     "name": "stdout",
     "output_type": "stream",
     "text": [
      "The balance at the end of year 1 is $ 900.0\n",
      "The balance at the end of year 2 is $ 795.0\n",
      "The balance at the end of year 3 is $ 684.75\n",
      "The balance at the end of year 4 is $ 568.99\n",
      "The balance at the end of year 5 is $ 447.44\n",
      "The balance at the end of year 6 is $ 319.81\n",
      "The balance at the end of year 7 is $ 185.8\n",
      "The balance at the end of year 8 is $ 45.09\n",
      "The amount of the final payment will be $ 47.34\n"
     ]
    }
   ],
   "source": [
    "balance = 1000\n",
    "i = 0.05\n",
    "pmt = 150\n",
    "n = 0\n",
    "\n",
    "while (balance > 0):\n",
    "    n = n + 1\n",
    "    balance = balance * (1 + i) - pmt\n",
    "    if (balance < 0):\n",
    "        last_pmt = balance + pmt\n",
    "        print(\"The amount of the final payment will be $\",round(last_pmt,2))\n",
    "    else:\n",
    "        print(\"The balance at the end of year\", (n),\"is $\",round(balance,2))"
   ]
  },
  {
   "cell_type": "markdown",
   "id": "83100bfe",
   "metadata": {},
   "source": [
    "### Dot Product"
   ]
  },
  {
   "cell_type": "code",
   "execution_count": 14,
   "id": "015565d5",
   "metadata": {},
   "outputs": [],
   "source": [
    "def dot_product(x,y):\n",
    "    sum = 0\n",
    "    for n in range(len(x)):\n",
    "        sum = sum + x[n] * y[n]\n",
    "    return sum"
   ]
  },
  {
   "cell_type": "code",
   "execution_count": 15,
   "id": "77e5ec8c",
   "metadata": {},
   "outputs": [],
   "source": [
    "x = [38, 9, 40, 34, 20, 16, 42, 36, 12, 1, 23, 46, 31, 19, 30, 33, 16, 43, 24, 41]\n",
    "y = [43, 13, 35, 14, 26, 3, 36, 15, 42, 44, 45, 20, 17, 6, 47, 40, 38, 41, 31, 24]"
   ]
  },
  {
   "cell_type": "code",
   "execution_count": 16,
   "id": "d5993de4",
   "metadata": {},
   "outputs": [
    {
     "name": "stdout",
     "output_type": "stream",
     "text": [
      "The dot product of v1 and v2 is 16220\n"
     ]
    }
   ],
   "source": [
    "print(\"The dot product of v1 and v2 is\",(dot_product(x,y)))"
   ]
  },
  {
   "cell_type": "markdown",
   "id": "a3819129",
   "metadata": {},
   "source": [
    "### Minimum"
   ]
  },
  {
   "cell_type": "code",
   "execution_count": 17,
   "id": "ba80a76a",
   "metadata": {},
   "outputs": [],
   "source": [
    "def minimum(x):\n",
    "    total = x[0]\n",
    "    for i in range(1,len(x)):\n",
    "        if x[i]<total:\n",
    "            total = x[i]\n",
    "    return total"
   ]
  },
  {
   "cell_type": "code",
   "execution_count": 18,
   "id": "3cb4e424",
   "metadata": {},
   "outputs": [],
   "source": [
    "list1 = [9.8, 7.4, 5.6, 4.8, 4.8, 5.3, 4.1, 9.6, 5.4]\n",
    "list2 = [3.4, 7.6, 8.7, 7.5, 9.8, 7.5, 6.7, 8.7, 8.4]\n",
    "list3 = ['St. Louis', 'Kansas City', 'Chicago', 'Little Rock', 'Omaha']"
   ]
  },
  {
   "cell_type": "code",
   "execution_count": 19,
   "id": "7b64a528",
   "metadata": {},
   "outputs": [
    {
     "name": "stdout",
     "output_type": "stream",
     "text": [
      "4.1\n",
      "3.4\n",
      "Chicago\n"
     ]
    }
   ],
   "source": [
    "print(minimum(list1))\n",
    "print(minimum(list2))\n",
    "print(minimum(list3))"
   ]
  },
  {
   "cell_type": "markdown",
   "id": "badddc91",
   "metadata": {},
   "source": [
    "### Argmin"
   ]
  },
  {
   "cell_type": "code",
   "execution_count": 20,
   "id": "dcdc9043",
   "metadata": {},
   "outputs": [],
   "source": [
    "def argmin(x):\n",
    "    if(len(x)==0):\n",
    "        return None\n",
    "    else:\n",
    "        small = x[0]\n",
    "        index = 0\n",
    "        for i in range(len(x)):\n",
    "            if(small>x[i]):\n",
    "                small = x[i]\n",
    "                index = 1 \n",
    "            else:\n",
    "                continue\n",
    "        return index"
   ]
  },
  {
   "cell_type": "code",
   "execution_count": 21,
   "id": "1f1789dd",
   "metadata": {},
   "outputs": [],
   "source": [
    "list1 = [9.8, 7.4, 5.6, 4.8, 4.8, 5.3, 4.1, 9.6, 5.4]\n",
    "list2 = [3.4, 7.6, 8.7, 7.5, 9.8, 7.5, 6.7, 8.7, 8.4]\n",
    "list3 = ['St. Louis', 'Kansas City', 'Chicago', 'Little Rock', 'Omaha']"
   ]
  },
  {
   "cell_type": "code",
   "execution_count": 22,
   "id": "14b27990",
   "metadata": {},
   "outputs": [
    {
     "name": "stdout",
     "output_type": "stream",
     "text": [
      "1\n",
      "0\n",
      "1\n"
     ]
    }
   ],
   "source": [
    "print(argmin(list1))\n",
    "print(argmin(list2))\n",
    "print(argmin(list3))"
   ]
  },
  {
   "cell_type": "markdown",
   "id": "88699921",
   "metadata": {},
   "source": [
    "### Finding the smallest element"
   ]
  },
  {
   "cell_type": "code",
   "execution_count": 23,
   "id": "d11787b6",
   "metadata": {},
   "outputs": [],
   "source": [
    "def find_smallest(x, n = None):\n",
    "    list_copy = x.copy()\n",
    "    list_copy.sort()\n",
    "    if n== None:\n",
    "        return list_copy[0] if len (list_copy) > 0 else None\n",
    "    else:\n",
    "        if n > len(list_copy):\n",
    "            n = len(list_copy)\n",
    "        return list_copy[0:n]"
   ]
  },
  {
   "cell_type": "code",
   "execution_count": 24,
   "id": "13bad07a",
   "metadata": {},
   "outputs": [],
   "source": [
    "my_list = [39, 74, 28, 64, 17, 28, 54, 53]"
   ]
  },
  {
   "cell_type": "code",
   "execution_count": 25,
   "id": "2f4276f6",
   "metadata": {},
   "outputs": [
    {
     "name": "stdout",
     "output_type": "stream",
     "text": [
      "17\n",
      "[17]\n",
      "[17, 28]\n",
      "[17, 28, 28, 39, 53]\n",
      "[17, 28, 28, 39, 53, 54, 64, 74]\n",
      "[39, 74, 28, 64, 17, 28, 54, 53]\n"
     ]
    }
   ],
   "source": [
    "print(find_smallest(my_list))\n",
    "print(find_smallest(my_list, 1))\n",
    "print(find_smallest(my_list, 2))\n",
    "print(find_smallest(my_list, 5))\n",
    "print(find_smallest(my_list, 12))\n",
    "print(my_list)"
   ]
  },
  {
   "cell_type": "markdown",
   "id": "7cee8fdb",
   "metadata": {},
   "source": [
    "### Finding unique elements"
   ]
  },
  {
   "cell_type": "code",
   "execution_count": 26,
   "id": "10c2ac13",
   "metadata": {},
   "outputs": [],
   "source": [
    "def unique(mylist):\n",
    "    total = []\n",
    "    for i in range(len(mylist)):\n",
    "        if mylist[i] not in total:\n",
    "            total.append(mylist[i])\n",
    "    total.sort()\n",
    "    return total"
   ]
  },
  {
   "cell_type": "code",
   "execution_count": 27,
   "id": "26bd68a1",
   "metadata": {},
   "outputs": [],
   "source": [
    "int_list = [23, 16, 23, 12, 14, 23, 12, 19, 19]\n",
    "str_list = ['cat', 'dog', 'dog', 'cat', 'bat', 'frog', 'dog', 'frog']"
   ]
  },
  {
   "cell_type": "code",
   "execution_count": 28,
   "id": "539a62dc",
   "metadata": {},
   "outputs": [
    {
     "name": "stdout",
     "output_type": "stream",
     "text": [
      "[12, 14, 16, 19, 23]\n",
      "['bat', 'cat', 'dog', 'frog']\n"
     ]
    }
   ],
   "source": [
    "print(unique(int_list))\n",
    "print(unique(str_list))"
   ]
  },
  {
   "cell_type": "markdown",
   "id": "48762a4a",
   "metadata": {},
   "source": [
    "### Weighted means"
   ]
  },
  {
   "cell_type": "code",
   "execution_count": 29,
   "id": "3cbf958c",
   "metadata": {},
   "outputs": [],
   "source": [
    "def mean(values, weights =None):\n",
    "    if(weights is None):\n",
    "        return sum(values)/len(values)\n",
    "    else:\n",
    "        for i in range(len(values)):\n",
    "            values[i] = values[i] * weights[i]\n",
    "        return sum(values)/sum(weights)"
   ]
  },
  {
   "cell_type": "code",
   "execution_count": 30,
   "id": "8cc13055",
   "metadata": {},
   "outputs": [],
   "source": [
    "values = [4, 7, 3, 5, 2, 6, 8, 2, 4, 8]\n",
    "weights = [2, 1, 3, 1, 2, 3, 1, 4, 2, 1]"
   ]
  },
  {
   "cell_type": "code",
   "execution_count": 31,
   "id": "60220808",
   "metadata": {},
   "outputs": [
    {
     "name": "stdout",
     "output_type": "stream",
     "text": [
      "Standard Mean:  4.9\n",
      "Weighted Mean:  4.15\n"
     ]
    }
   ],
   "source": [
    "print(\"Standard Mean: \", mean(values))\n",
    "print(\"Weighted Mean: \", mean(values, weights))"
   ]
  },
  {
   "cell_type": "markdown",
   "id": "358a4c70",
   "metadata": {},
   "source": [
    "### Argument sort"
   ]
  },
  {
   "cell_type": "code",
   "execution_count": 32,
   "id": "88018c77",
   "metadata": {},
   "outputs": [],
   "source": [
    "def argsort(x, reverse=False):\n",
    "    tuple_list = [(element, index) for index, element in enumerate(x,0)]\n",
    "    sorted_tuples = sorted(tuple_list, reverse=reverse)\n",
    "    idx_list = [item[1] for item in sorted_tuples]\n",
    "    return idx_list"
   ]
  },
  {
   "cell_type": "code",
   "execution_count": 33,
   "id": "8e91b923",
   "metadata": {},
   "outputs": [
    {
     "name": "stdout",
     "output_type": "stream",
     "text": [
      "[5, 6, 2, 3, 7, 4, 0, 1]\n"
     ]
    }
   ],
   "source": [
    "list1 = [76, 81, 30, 47, 50, 18, 23, 49]\n",
    "print(argsort(list1))"
   ]
  },
  {
   "cell_type": "code",
   "execution_count": 34,
   "id": "d477cded",
   "metadata": {},
   "outputs": [
    {
     "name": "stdout",
     "output_type": "stream",
     "text": [
      "[3, 1, 0, 4, 2, 5]\n"
     ]
    }
   ],
   "source": [
    "list2 = ['Chad', 'Beth', 'Emma', 'Alex', 'Drew', 'Fred']\n",
    "print(argsort(list2))"
   ]
  },
  {
   "cell_type": "markdown",
   "id": "7637dd97",
   "metadata": {},
   "source": [
    "### Processing lines of text"
   ]
  },
  {
   "cell_type": "code",
   "execution_count": 35,
   "id": "ecb1906b",
   "metadata": {},
   "outputs": [],
   "source": [
    "def process_line(line,schema,sep):\n",
    "    tokens = line.split(sep)\n",
    "    result = []\n",
    "    for i in range(len(tokens)):\n",
    "        t = tokens[i]\n",
    "        dt = schema[i]\n",
    "        result.append(dt(t))\n",
    "        return result"
   ]
  },
  {
   "cell_type": "code",
   "execution_count": 36,
   "id": "ba1e60c8",
   "metadata": {},
   "outputs": [
    {
     "name": "stdout",
     "output_type": "stream",
     "text": [
      "[6]\n"
     ]
    }
   ],
   "source": [
    "test_schema = [int, int, str, str, float]\n",
    "\n",
    "test_line = '6,174,Blah,Hello World,7.37'\n",
    "\n",
    "print(process_line(test_line, test_schema, ','))"
   ]
  },
  {
   "cell_type": "markdown",
   "id": "4b6ff8f1",
   "metadata": {},
   "source": [
    "### Processing File Input"
   ]
  },
  {
   "cell_type": "code",
   "execution_count": 37,
   "id": "56d8a00c",
   "metadata": {},
   "outputs": [],
   "source": [
    "def read_file_to_list(path,schema,sep):\n",
    "    with open(path) as f:\n",
    "        contents = f.read()\n",
    "        lines = contents.split(\"\\n\")\n",
    "        data = []\n",
    "        data.append(lines[0].split(sep))\n",
    "        lines = lines[1:]\n",
    "        for line in lines:\n",
    "            data.append(process_line(line,schema,sep))\n",
    "    return data"
   ]
  },
  {
   "cell_type": "code",
   "execution_count": 38,
   "id": "411509f5",
   "metadata": {},
   "outputs": [
    {
     "ename": "FileNotFoundError",
     "evalue": "[Errno 2] No such file or directory: 'diamonds_partial.txt'",
     "output_type": "error",
     "traceback": [
      "\u001b[1;31m---------------------------------------------------------------------------\u001b[0m",
      "\u001b[1;31mFileNotFoundError\u001b[0m                         Traceback (most recent call last)",
      "Input \u001b[1;32mIn [38]\u001b[0m, in \u001b[0;36m<cell line: 2>\u001b[1;34m()\u001b[0m\n\u001b[0;32m      1\u001b[0m my_schema \u001b[38;5;241m=\u001b[39m [\u001b[38;5;28mstr\u001b[39m,\u001b[38;5;28mint\u001b[39m,\u001b[38;5;28mfloat\u001b[39m]\n\u001b[1;32m----> 2\u001b[0m diamond_data \u001b[38;5;241m=\u001b[39m \u001b[43mread_file_to_list\u001b[49m\u001b[43m(\u001b[49m\u001b[38;5;124;43m'\u001b[39;49m\u001b[38;5;124;43mdiamonds_partial.txt\u001b[39;49m\u001b[38;5;124;43m'\u001b[39;49m\u001b[43m,\u001b[49m\u001b[43m \u001b[49m\u001b[43mmy_schema\u001b[49m\u001b[43m,\u001b[49m\u001b[43m \u001b[49m\u001b[38;5;124;43m\"\u001b[39;49m\u001b[38;5;124;43m,\u001b[39;49m\u001b[38;5;124;43m\"\u001b[39;49m\u001b[43m)\u001b[49m\n\u001b[0;32m      3\u001b[0m \u001b[38;5;28;01mfor\u001b[39;00m i \u001b[38;5;129;01min\u001b[39;00m diamond_data:\n\u001b[0;32m      4\u001b[0m     \u001b[38;5;28mprint\u001b[39m(i)\n",
      "Input \u001b[1;32mIn [37]\u001b[0m, in \u001b[0;36mread_file_to_list\u001b[1;34m(path, schema, sep)\u001b[0m\n\u001b[0;32m      1\u001b[0m \u001b[38;5;28;01mdef\u001b[39;00m \u001b[38;5;21mread_file_to_list\u001b[39m(path,schema,sep):\n\u001b[1;32m----> 2\u001b[0m     \u001b[38;5;28;01mwith\u001b[39;00m \u001b[38;5;28;43mopen\u001b[39;49m\u001b[43m(\u001b[49m\u001b[43mpath\u001b[49m\u001b[43m)\u001b[49m \u001b[38;5;28;01mas\u001b[39;00m f:\n\u001b[0;32m      3\u001b[0m         contents \u001b[38;5;241m=\u001b[39m f\u001b[38;5;241m.\u001b[39mread()\n\u001b[0;32m      4\u001b[0m         lines \u001b[38;5;241m=\u001b[39m contents\u001b[38;5;241m.\u001b[39msplit(\u001b[38;5;124m\"\u001b[39m\u001b[38;5;130;01m\\n\u001b[39;00m\u001b[38;5;124m\"\u001b[39m)\n",
      "\u001b[1;31mFileNotFoundError\u001b[0m: [Errno 2] No such file or directory: 'diamonds_partial.txt'"
     ]
    }
   ],
   "source": [
    "my_schema = [str,int,float]\n",
    "diamond_data = read_file_to_list('diamonds_partial.txt', my_schema, \",\")\n",
    "for i in diamond_data:\n",
    "    print(i)"
   ]
  },
  {
   "cell_type": "code",
   "execution_count": 39,
   "id": "5737dfe0",
   "metadata": {},
   "outputs": [
    {
     "ename": "FileNotFoundError",
     "evalue": "[Errno 2] No such file or directory: 'titanic_partial.txt'",
     "output_type": "error",
     "traceback": [
      "\u001b[1;31m---------------------------------------------------------------------------\u001b[0m",
      "\u001b[1;31mFileNotFoundError\u001b[0m                         Traceback (most recent call last)",
      "Input \u001b[1;32mIn [39]\u001b[0m, in \u001b[0;36m<cell line: 2>\u001b[1;34m()\u001b[0m\n\u001b[0;32m      1\u001b[0m my_schema \u001b[38;5;241m=\u001b[39m [\u001b[38;5;28mstr\u001b[39m,\u001b[38;5;28mint\u001b[39m,\u001b[38;5;28mfloat\u001b[39m]\n\u001b[1;32m----> 2\u001b[0m titanic_data \u001b[38;5;241m=\u001b[39m \u001b[43mread_file_to_list\u001b[49m\u001b[43m(\u001b[49m\u001b[38;5;124;43m'\u001b[39;49m\u001b[38;5;124;43mtitanic_partial.txt\u001b[39;49m\u001b[38;5;124;43m'\u001b[39;49m\u001b[43m,\u001b[49m\u001b[43m \u001b[49m\u001b[43mmy_schema\u001b[49m\u001b[43m,\u001b[49m\u001b[43m \u001b[49m\u001b[38;5;124;43m\"\u001b[39;49m\u001b[38;5;124;43m,\u001b[39;49m\u001b[38;5;124;43m\"\u001b[39;49m\u001b[43m)\u001b[49m\n\u001b[0;32m      3\u001b[0m \u001b[38;5;28;01mfor\u001b[39;00m i \u001b[38;5;129;01min\u001b[39;00m titanic_data:\n\u001b[0;32m      4\u001b[0m     \u001b[38;5;28mprint\u001b[39m(i)\n",
      "Input \u001b[1;32mIn [37]\u001b[0m, in \u001b[0;36mread_file_to_list\u001b[1;34m(path, schema, sep)\u001b[0m\n\u001b[0;32m      1\u001b[0m \u001b[38;5;28;01mdef\u001b[39;00m \u001b[38;5;21mread_file_to_list\u001b[39m(path,schema,sep):\n\u001b[1;32m----> 2\u001b[0m     \u001b[38;5;28;01mwith\u001b[39;00m \u001b[38;5;28;43mopen\u001b[39;49m\u001b[43m(\u001b[49m\u001b[43mpath\u001b[49m\u001b[43m)\u001b[49m \u001b[38;5;28;01mas\u001b[39;00m f:\n\u001b[0;32m      3\u001b[0m         contents \u001b[38;5;241m=\u001b[39m f\u001b[38;5;241m.\u001b[39mread()\n\u001b[0;32m      4\u001b[0m         lines \u001b[38;5;241m=\u001b[39m contents\u001b[38;5;241m.\u001b[39msplit(\u001b[38;5;124m\"\u001b[39m\u001b[38;5;130;01m\\n\u001b[39;00m\u001b[38;5;124m\"\u001b[39m)\n",
      "\u001b[1;31mFileNotFoundError\u001b[0m: [Errno 2] No such file or directory: 'titanic_partial.txt'"
     ]
    }
   ],
   "source": [
    "my_schema = [str,int,float]\n",
    "titanic_data = read_file_to_list('titanic_partial.txt', my_schema, \",\")\n",
    "for i in titanic_data:\n",
    "    print(i)"
   ]
  },
  {
   "cell_type": "markdown",
   "id": "0ecb16bb",
   "metadata": {},
   "source": [
    "### Recursive Product"
   ]
  },
  {
   "cell_type": "code",
   "execution_count": 40,
   "id": "1c2eded0",
   "metadata": {},
   "outputs": [],
   "source": [
    "def recursive_product(x):\n",
    "    if len(x) == 1:\n",
    "        return x[0]\n",
    "    else:\n",
    "        temp = recursive_product(x[1:])\n",
    "        return temp * x[0]"
   ]
  },
  {
   "cell_type": "code",
   "execution_count": 41,
   "id": "3749a92b",
   "metadata": {},
   "outputs": [
    {
     "name": "stdout",
     "output_type": "stream",
     "text": [
      "2423520\n"
     ]
    }
   ],
   "source": [
    "factors = [11, 8, 17, 9, 18, 10]\n",
    "print(recursive_product(factors))"
   ]
  },
  {
   "cell_type": "markdown",
   "id": "20ea6466",
   "metadata": {},
   "source": [
    "### Greatest Common Divisor"
   ]
  },
  {
   "cell_type": "code",
   "execution_count": 42,
   "id": "5efc93de",
   "metadata": {},
   "outputs": [],
   "source": [
    "def gcd(a, b):\n",
    "    if a < b:\n",
    "        return gcd(b, a)\n",
    "    elif b == 0:\n",
    "        return a\n",
    "    else:\n",
    "        return gcd(b, a % b)"
   ]
  },
  {
   "cell_type": "code",
   "execution_count": 43,
   "id": "e32e18db",
   "metadata": {},
   "outputs": [
    {
     "name": "stdout",
     "output_type": "stream",
     "text": [
      "12\n",
      "30\n",
      "20\n",
      "1\n"
     ]
    }
   ],
   "source": [
    "print(gcd(72, 300))\n",
    "print(gcd(180, 210))\n",
    "print(gcd(20, 400))\n",
    "print(gcd(30, 77))"
   ]
  },
  {
   "cell_type": "markdown",
   "id": "40a2191a",
   "metadata": {},
   "source": [
    "### Flattening Nested Lists"
   ]
  },
  {
   "cell_type": "code",
   "execution_count": 44,
   "id": "bda39399",
   "metadata": {},
   "outputs": [],
   "source": [
    "def flatten(x):\n",
    "    flat_list = []\n",
    "    for i in x:\n",
    "        if type(i) == list:\n",
    "            flat_list = flat_list + flatten(i)\n",
    "        else:\n",
    "            flat_list.append(i) \n",
    "    return flat_list"
   ]
  },
  {
   "cell_type": "code",
   "execution_count": 45,
   "id": "bec070c6",
   "metadata": {},
   "outputs": [
    {
     "name": "stdout",
     "output_type": "stream",
     "text": [
      "[1, 2, 3]\n",
      "[1, 2, 3]\n",
      "[1, 2, 4, 5, 6]\n",
      "[1, 8, 5, 6, 4, 9, 7, 2, 3]\n",
      "[1, 8, 5, 6, 4, 9, 7, 2, 3]\n"
     ]
    }
   ],
   "source": [
    "nested_list = [1, 2, 3]\n",
    "print(flatten(nested_list))\n",
    "\n",
    "nested_list = [1, [2], [3]]\n",
    "print(flatten(nested_list))\n",
    "\n",
    "\n",
    "nested_list = [1, [2], [[4, 5], 6]]\n",
    "print(flatten(nested_list))\n",
    "\n",
    "\n",
    "nested_list = [1, [8, [5, 6, [4, 9]]], [7, 2, 3]]\n",
    "print(flatten(nested_list))\n",
    "\n",
    "nested_list = [1, [8, [5, 6, [4, 9]]], [7, 2, 3]]\n",
    "print(flatten(nested_list))"
   ]
  },
  {
   "cell_type": "markdown",
   "id": "bbc0d2e5",
   "metadata": {},
   "source": [
    "### Binary Search"
   ]
  },
  {
   "cell_type": "code",
   "execution_count": 46,
   "id": "72142686",
   "metadata": {},
   "outputs": [],
   "source": [
    "def binary_search(x, item):\n",
    "    if item < x[0] or item > x[len(x)-1]:\n",
    "        return False\n",
    "    mid = int(len(x) / 2)\n",
    "    if item == x[mid]:\n",
    "        return True\n",
    "    elif item < x[mid]:\n",
    "        return binary_search(x[0:mid], item)\n",
    "    elif item > x[mid]:\n",
    "        return binary_search(x[mid+1:], item)"
   ]
  },
  {
   "cell_type": "code",
   "execution_count": 47,
   "id": "5da89830",
   "metadata": {},
   "outputs": [
    {
     "name": "stdout",
     "output_type": "stream",
     "text": [
      "0 - True\n",
      "1 - False\n",
      "2 - True\n",
      "3 - True\n",
      "4 - True\n",
      "5 - False\n",
      "6 - False\n",
      "7 - False\n",
      "8 - False\n",
      "9 - True\n"
     ]
    }
   ],
   "source": [
    "random.seed(1)\n",
    "random_list_1 = sorted(random.choices(range(100), k=100))\n",
    "\n",
    "for i in range(0, 10):\n",
    "    print(i, '-', binary_search(random_list_1, i))"
   ]
  },
  {
   "cell_type": "code",
   "execution_count": null,
   "id": "4baced58",
   "metadata": {},
   "outputs": [],
   "source": []
  }
 ],
 "metadata": {
  "kernelspec": {
   "display_name": "Python 3 (ipykernel)",
   "language": "python",
   "name": "python3"
  },
  "language_info": {
   "codemirror_mode": {
    "name": "ipython",
    "version": 3
   },
   "file_extension": ".py",
   "mimetype": "text/x-python",
   "name": "python",
   "nbconvert_exporter": "python",
   "pygments_lexer": "ipython3",
   "version": "3.9.12"
  }
 },
 "nbformat": 4,
 "nbformat_minor": 5
}
